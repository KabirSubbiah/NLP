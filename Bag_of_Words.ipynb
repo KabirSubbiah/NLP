{
  "cells": [
    {
      "cell_type": "markdown",
      "metadata": {
        "id": "view-in-github",
        "colab_type": "text"
      },
      "source": [
        "<a href=\"https://colab.research.google.com/github/KabirSubbiah/NLP/blob/main/Bag_of_Words.ipynb\" target=\"_parent\"><img src=\"https://colab.research.google.com/assets/colab-badge.svg\" alt=\"Open In Colab\"/></a>"
      ]
    },
    {
      "cell_type": "markdown",
      "metadata": {
        "id": "PXr-P33boqMu"
      },
      "source": [
        "# Before you start\n"
      ]
    },
    {
      "cell_type": "markdown",
      "metadata": {
        "id": "xQHTrl-FoyZ5"
      },
      "source": [
        "In this class, we will be using Google Colab notebooks for assignments instead of regular Python files. Colab provides more efficient Google GPU and is easier for setting up. Colab is also a very powerful platform and it functions very similarly to a Jupyter notebook. We'll provide a few tips on how to use Colab below; make sure you read them carefully!\n"
      ]
    },
    {
      "cell_type": "markdown",
      "metadata": {
        "id": "C3xfjKH5l-yX"
      },
      "source": [
        "☝ **Quick Colab Tips:**\n",
        "\n",
        "- Make sure you **create a copy** of the Colab before you start coding!!! (File->Save a copy in Drive). If you don't do this, you will lose everything when you close the page and we DON'T want that to happen to you!\n",
        "- Make sure you hit every play button that you need in previous cells, so that every function and variable you need is defined.\n",
        "- If you don't want to click everything individually, you can click Runtime and you will find \"Run Before\", \"Run After\", or \"Run All\".\n",
        "- When you reload the page, the runtime restarts and all variables in the environment are cleared, so you will need to re-run cells.\n",
        "- If you make changes to a definition in an earlier cell, remember to run the cell to actually update the definition. Then remember to re-run the cells after, or else they will still be using the previous value.\n",
        "- For more tips on getting started, please take a look at this [video](https://www.youtube.com/watch?v=inN8seMm7UI&ab_channel=TensorFlow).\n"
      ]
    },
    {
      "cell_type": "markdown",
      "metadata": {
        "id": "OWW6ckHBfm2D"
      },
      "source": [
        "**Collaboration policy form:**\n",
        "\n",
        "Before you start coding, make sure to fill out the [collaboration policy form](https://docs.google.com/forms/d/e/1FAIpQLSeQ4mw2BUb8j0zY20UiWSenWRrkHsKOaUx-VXm1i3h3FTQQxg/viewform?usp=sf_link).\n"
      ]
    },
    {
      "cell_type": "markdown",
      "metadata": {
        "id": "CtgQAyEeci3U"
      },
      "source": [
        "# Introduction\n"
      ]
    },
    {
      "cell_type": "markdown",
      "metadata": {
        "id": "KVB34I9mWS0n"
      },
      "source": [
        "Welcome to your first assignment! In this assignment, you will be implementing your very first NLP model (Woohoo!) -- a Bag of Words (BOW) model for sentiment classification. In this assignment, you will be using a very useful NLP libary (spaCy), and a popular machine learning library (scikit-learn, or sklearn) to help you with preprocessing the data and building the BOW model. In later lectures and assignments, you will learn to implement many of these NLP and ML functions yourself, but in \"the real world\" it is often more practical to use existing libraries like those provided by spacy and sklearn than to implement these algorithms from scratch. So, in this assignment, we want you to learn how to use these libraries in a practical setting, and we'll later learn about how they work \"under the hood\".\n",
        "\n",
        "The main learning objectives for this assignment are:\n",
        "\n",
        "1. Use sklearn to implement a standard ML workflow (featurization, designing train-test splits, training a model, and evaluating the model).\n",
        "2. Use spaCy for standard NLP preprocessing steps (tokenization, lemmatization, tagging).\n",
        "3. Understand and implement common featurization approaches for text classifiers (ngrams, weighting schemas, tagging).\n"
      ]
    },
    {
      "cell_type": "markdown",
      "metadata": {
        "id": "itqsAfAOelQ_"
      },
      "source": [
        "The basic workflow for an NLP model contains the following steps:\n",
        "\n",
        "1. Load and Explore Data\n",
        "2. Preprocess Data\n",
        "3. Extract Features\n",
        "4. Train the Model\n",
        "5. Evaluate the Model\n",
        "6. Analyze Model Behavior\n",
        "\n",
        "You will implement this full workflow in Part 1. In Part 2, you will experiment with improvements to step 2 (preprocessing). In Part 3, you will experiment with improvements to step 3 (featurization).\n"
      ]
    },
    {
      "cell_type": "markdown",
      "metadata": {
        "id": "XnKGrey8cZp2"
      },
      "source": [
        "### Installation and Imports\n"
      ]
    },
    {
      "cell_type": "markdown",
      "metadata": {
        "id": "WGA9Y8Rycvbs"
      },
      "source": [
        "☝ **Quick Tip:** You can add \"**!**\" in front a Linux command and it can run on Colab!\n"
      ]
    },
    {
      "cell_type": "code",
      "execution_count": null,
      "metadata": {
        "id": "rXyZnyPJc2Ze",
        "colab": {
          "base_uri": "https://localhost:8080/"
        },
        "outputId": "4637391d-e74d-4d7a-823c-7819577b2e29"
      },
      "outputs": [
        {
          "output_type": "stream",
          "name": "stdout",
          "text": [
            "Requirement already satisfied: spacy in /usr/local/lib/python3.10/dist-packages (3.6.1)\n",
            "Requirement already satisfied: spacy-legacy<3.1.0,>=3.0.11 in /usr/local/lib/python3.10/dist-packages (from spacy) (3.0.12)\n",
            "Requirement already satisfied: spacy-loggers<2.0.0,>=1.0.0 in /usr/local/lib/python3.10/dist-packages (from spacy) (1.0.4)\n",
            "Requirement already satisfied: murmurhash<1.1.0,>=0.28.0 in /usr/local/lib/python3.10/dist-packages (from spacy) (1.0.9)\n",
            "Requirement already satisfied: cymem<2.1.0,>=2.0.2 in /usr/local/lib/python3.10/dist-packages (from spacy) (2.0.7)\n",
            "Requirement already satisfied: preshed<3.1.0,>=3.0.2 in /usr/local/lib/python3.10/dist-packages (from spacy) (3.0.8)\n",
            "Requirement already satisfied: thinc<8.2.0,>=8.1.8 in /usr/local/lib/python3.10/dist-packages (from spacy) (8.1.12)\n",
            "Requirement already satisfied: wasabi<1.2.0,>=0.9.1 in /usr/local/lib/python3.10/dist-packages (from spacy) (1.1.2)\n",
            "Requirement already satisfied: srsly<3.0.0,>=2.4.3 in /usr/local/lib/python3.10/dist-packages (from spacy) (2.4.7)\n",
            "Requirement already satisfied: catalogue<2.1.0,>=2.0.6 in /usr/local/lib/python3.10/dist-packages (from spacy) (2.0.9)\n",
            "Requirement already satisfied: typer<0.10.0,>=0.3.0 in /usr/local/lib/python3.10/dist-packages (from spacy) (0.9.0)\n",
            "Requirement already satisfied: pathy>=0.10.0 in /usr/local/lib/python3.10/dist-packages (from spacy) (0.10.2)\n",
            "Requirement already satisfied: smart-open<7.0.0,>=5.2.1 in /usr/local/lib/python3.10/dist-packages (from spacy) (6.4.0)\n",
            "Requirement already satisfied: tqdm<5.0.0,>=4.38.0 in /usr/local/lib/python3.10/dist-packages (from spacy) (4.66.1)\n",
            "Requirement already satisfied: numpy>=1.15.0 in /usr/local/lib/python3.10/dist-packages (from spacy) (1.23.5)\n",
            "Requirement already satisfied: requests<3.0.0,>=2.13.0 in /usr/local/lib/python3.10/dist-packages (from spacy) (2.31.0)\n",
            "Requirement already satisfied: pydantic!=1.8,!=1.8.1,<3.0.0,>=1.7.4 in /usr/local/lib/python3.10/dist-packages (from spacy) (1.10.12)\n",
            "Requirement already satisfied: jinja2 in /usr/local/lib/python3.10/dist-packages (from spacy) (3.1.2)\n",
            "Requirement already satisfied: setuptools in /usr/local/lib/python3.10/dist-packages (from spacy) (67.7.2)\n",
            "Requirement already satisfied: packaging>=20.0 in /usr/local/lib/python3.10/dist-packages (from spacy) (23.1)\n",
            "Requirement already satisfied: langcodes<4.0.0,>=3.2.0 in /usr/local/lib/python3.10/dist-packages (from spacy) (3.3.0)\n",
            "Requirement already satisfied: typing-extensions>=4.2.0 in /usr/local/lib/python3.10/dist-packages (from pydantic!=1.8,!=1.8.1,<3.0.0,>=1.7.4->spacy) (4.5.0)\n",
            "Requirement already satisfied: charset-normalizer<4,>=2 in /usr/local/lib/python3.10/dist-packages (from requests<3.0.0,>=2.13.0->spacy) (3.2.0)\n",
            "Requirement already satisfied: idna<4,>=2.5 in /usr/local/lib/python3.10/dist-packages (from requests<3.0.0,>=2.13.0->spacy) (3.4)\n",
            "Requirement already satisfied: urllib3<3,>=1.21.1 in /usr/local/lib/python3.10/dist-packages (from requests<3.0.0,>=2.13.0->spacy) (2.0.4)\n",
            "Requirement already satisfied: certifi>=2017.4.17 in /usr/local/lib/python3.10/dist-packages (from requests<3.0.0,>=2.13.0->spacy) (2023.7.22)\n",
            "Requirement already satisfied: blis<0.8.0,>=0.7.8 in /usr/local/lib/python3.10/dist-packages (from thinc<8.2.0,>=8.1.8->spacy) (0.7.10)\n",
            "Requirement already satisfied: confection<1.0.0,>=0.0.1 in /usr/local/lib/python3.10/dist-packages (from thinc<8.2.0,>=8.1.8->spacy) (0.1.2)\n",
            "Requirement already satisfied: click<9.0.0,>=7.1.1 in /usr/local/lib/python3.10/dist-packages (from typer<0.10.0,>=0.3.0->spacy) (8.1.7)\n",
            "Requirement already satisfied: MarkupSafe>=2.0 in /usr/local/lib/python3.10/dist-packages (from jinja2->spacy) (2.1.3)\n",
            "Requirement already satisfied: scikit-learn in /usr/local/lib/python3.10/dist-packages (1.2.2)\n",
            "Requirement already satisfied: numpy>=1.17.3 in /usr/local/lib/python3.10/dist-packages (from scikit-learn) (1.23.5)\n",
            "Requirement already satisfied: scipy>=1.3.2 in /usr/local/lib/python3.10/dist-packages (from scikit-learn) (1.11.2)\n",
            "Requirement already satisfied: joblib>=1.1.1 in /usr/local/lib/python3.10/dist-packages (from scikit-learn) (1.3.2)\n",
            "Requirement already satisfied: threadpoolctl>=2.0.0 in /usr/local/lib/python3.10/dist-packages (from scikit-learn) (3.2.0)\n",
            "Mounted at /content/drive\n"
          ]
        }
      ],
      "source": [
        "!pip install spacy\n",
        "!pip install scikit-learn\n",
        "\n",
        "import os\n",
        "import spacy\n",
        "\n",
        "from google.colab import drive\n",
        "\n",
        "import numpy as np\n",
        "import pandas as pd\n",
        "import pickle\n",
        "from typing import List, Tuple, TypeAlias\n",
        "\n",
        "drive.mount(\"/content/drive\", force_remount=True)"
      ]
    },
    {
      "cell_type": "markdown",
      "metadata": {
        "id": "uqRWYkCy5j_H"
      },
      "source": [
        "# Part 1: BOW Workflow\n"
      ]
    },
    {
      "cell_type": "markdown",
      "metadata": {
        "id": "-LFmmfC40yvK"
      },
      "source": [
        "### Step 1: Load the raw data from disk and explore the data\n"
      ]
    },
    {
      "cell_type": "markdown",
      "metadata": {
        "id": "SgkVdcg-g_A2"
      },
      "source": [
        "In this assignment, we will use a Twitter dataset with social media text. Mount the path to your copied handout folder in the cell below, so that you can access it from this notebook.\n",
        "\n",
        "In the dataset, the tweets are rated for three categories of sentiment: positive, negative and neutral. We will use the tweets in the `text` column and the sentiments in the `sentiment` column. Read the pandas documentation [here](https://pandas.pydata.org/docs/reference/api/pandas.read_csv.html) if you are unfamiliar with dataframes.\n"
      ]
    },
    {
      "cell_type": "code",
      "execution_count": null,
      "metadata": {
        "id": "ruKcSLB7qmV1"
      },
      "outputs": [],
      "source": [
        "# Change this folder if you've placed the .csv elsewhere in your drive.\n",
        "FOLDER = \"/content/drive/My Drive/datasets\"  # Extend this string to point to the directory with your copy of Tweets_5K.csv\n",
        "FILEPATH = f\"{FOLDER}/Tweets_5K.csv\""
      ]
    },
    {
      "cell_type": "code",
      "execution_count": null,
      "metadata": {
        "id": "szjiUpBdl1Ub"
      },
      "outputs": [],
      "source": [
        "def load_data() -> Tuple[List[str], List[int]]:\n",
        "\n",
        "\n",
        "    df = pd.read_csv(\n",
        "        FILEPATH,\n",
        "        usecols=[1, 2],\n",
        "    )\n",
        "    \"\"\"\n",
        "    Loads Twitter data into two lists.\n",
        "\n",
        "    Returns\n",
        "    -------\n",
        "    raw_tweets : List[str]\n",
        "        A list of all Tweets in the dataset\n",
        "    labels : List[int]\n",
        "        A list of the sentiments corresponding to each raw tweet encoded as integers,\n",
        "        -1 meaning negative, 0 meaning neutral, and 1 meaning positive\n",
        "    \"\"\"\n",
        "    senti_dict = {'negative': -1, 'neutral': 0, 'positive': 1}\n",
        "\n",
        "    text_list = df['text'].tolist()\n",
        "\n",
        "    sentiment_list = [senti_dict[i] for i in df['sentiment']]\n",
        "\n",
        "    return (text_list, sentiment_list)"
      ]
    },
    {
      "cell_type": "markdown",
      "metadata": {
        "id": "79FM4wqYFDUn"
      },
      "source": [
        "Before you start to preprocess data, you should always take a look at the dataset and get a sense of the data you're handling.\n"
      ]
    },
    {
      "cell_type": "code",
      "execution_count": null,
      "metadata": {
        "id": "RuXYtIARFZ_I",
        "colab": {
          "base_uri": "https://localhost:8080/"
        },
        "outputId": "be213c08-cc26-4177-d8c5-d37df39d424e"
      },
      "outputs": [
        {
          "output_type": "stream",
          "name": "stdout",
          "text": [
            "0:\t I`d have responded, if I were going\n",
            "\n",
            "-1:\t Sooo SAD I will miss you here in San Diego!!!\n",
            "\n",
            "-1:\tmy boss is bullying me...\n",
            "\n",
            "-1:\t what interview! leave me alone\n",
            "\n",
            "-1:\t Sons of ****, why couldn`t they put them on the releases we already bought\n",
            "\n",
            "0:\thttp://www.dothebouncy.com/smf - some shameless plugging for the best Rangers forum on earth\n",
            "\n",
            "1:\t2am feedings for the baby are fun when he is all smiles and coos\n",
            "\n",
            "0:\tSoooo high\n",
            "\n",
            "0:\t Both of you\n",
            "\n",
            "1:\t Journey!? Wow... u just became cooler.  hehe... (is that possible!?)\n",
            "\n"
          ]
        }
      ],
      "source": [
        "raw_tweets, labels = load_data()\n",
        "for p, label in zip(raw_tweets[:10], labels[:10]):\n",
        "    print(f\"{label}:\\t{p}\\n\")"
      ]
    },
    {
      "cell_type": "markdown",
      "metadata": {
        "id": "EznlXSqYRwUd"
      },
      "source": [
        "We can use matplotlib to see the ratio between positive, negative and neutral sentiments.\n"
      ]
    },
    {
      "cell_type": "code",
      "execution_count": null,
      "metadata": {
        "id": "TbL8lmGqR4W1",
        "colab": {
          "base_uri": "https://localhost:8080/",
          "height": 471
        },
        "outputId": "68ad3bff-ea51-499b-85b4-0bdeb87072f3"
      },
      "outputs": [
        {
          "output_type": "display_data",
          "data": {
            "text/plain": [
              "<Figure size 640x480 with 1 Axes>"
            ],
            "image/png": "[encoded data removed]"
          },
          "metadata": {}
        }
      ],
      "source": [
        "import matplotlib.pyplot as plt\n",
        "\n",
        "plt.figure()\n",
        "pd.value_counts(labels).plot.bar(title=\"Sentiment Distribution in Tweets\")\n",
        "plt.xlabel(\"Sentiment\")\n",
        "plt.ylabel(\"Number of Tweets\")\n",
        "plt.show()"
      ]
    },
    {
      "cell_type": "markdown",
      "metadata": {
        "id": "bHTnM_KmhSX4"
      },
      "source": [
        "### Step 2: Preprocess the data\n"
      ]
    },
    {
      "cell_type": "markdown",
      "metadata": {
        "id": "LpaUKiGIR0O9"
      },
      "source": [
        "For now, all you need to do for preprocessing is split the tweets by whitespace.\n"
      ]
    },
    {
      "cell_type": "code",
      "execution_count": null,
      "metadata": {
        "id": "IS_vaKZYhW8p"
      },
      "outputs": [],
      "source": [
        "def preprocess(raw_X: List[str]) -> List[List[str]]:\n",
        "    \"\"\"\n",
        "    Performs splitting on whitespace on all raw strings in a list.\n",
        "\n",
        "    Parameters\n",
        "    ----------\n",
        "    raw_X : List[str]\n",
        "        A list of raw strings (tweets)\n",
        "\n",
        "    Returns\n",
        "    -------\n",
        "    List[List[str]]\n",
        "        A list of preprocessed tweets (which are now lists of words)\n",
        "    \"\"\"\n",
        "    processed_tweets = [[] for _ in range(len(raw_X))]\n",
        "\n",
        "    for i in range(len(raw_X)):\n",
        "      processed_tweets[i] = raw_X[i].split()\n",
        "\n",
        "    return processed_tweets\n",
        "    # TODO: Basic tokenization just based on whitespace, with no other preprocessing\n",
        "    pass"
      ]
    },
    {
      "cell_type": "markdown",
      "metadata": {
        "id": "y2hYek_ZiEG8"
      },
      "source": [
        "### Step 3: Define the Model\n"
      ]
    },
    {
      "cell_type": "code",
      "execution_count": null,
      "metadata": {
        "id": "R0hIpa31iFcV"
      },
      "outputs": [],
      "source": [
        "from scipy.sparse import csr_matrix\n",
        "from sklearn.feature_extraction import DictVectorizer\n",
        "from sklearn.linear_model import LogisticRegression\n",
        "\n",
        "\n",
        "class BOW_Classifier:\n",
        "    \"\"\"\n",
        "    Attributes\n",
        "    ----------\n",
        "    clf : LogisticRegression\n",
        "        A logistic regression classifier\n",
        "    dv : DictVectorizer\n",
        "        A dictionary vectorizer for turning dictionaries into matrices\n",
        "    \"\"\"\n",
        "\n",
        "    def __init__(self):\n",
        "        # TODO: Initialize class attributes\n",
        "        # HINT: Use max_iter=150 when initializing your LogisticRegression classifier to get expected performance!\n",
        "        # You are allowed to not use the dv attribute as well as add more to the init method if you wish\n",
        "        self.clf = LogisticRegression(max_iter=150) #Specify solver, penalty and other hyperparameters\n",
        "        self.dv = DictVectorizer()\n",
        "\n",
        "    def featurize(\n",
        "        self, preproc_X: np.ndarray[List[str]], is_test: bool = False\n",
        "    ) -> csr_matrix:\n",
        "        \"\"\"\n",
        "        Turns a list of preprocessed tweets into a binary bag of words\n",
        "        matrix.\n",
        "\n",
        "        Parameters\n",
        "        ----------\n",
        "        preproc_X : np.ndarray[List[str]]\n",
        "            A list of preprocessed tweets\n",
        "        is_test: bool, default=False\n",
        "            Whether featurization should be done using features learned during training (is_test=True)\n",
        "            or whether it should be done with features extracted from scratch using preproc_X (is_test=False)\n",
        "\n",
        "        Returns\n",
        "        -------\n",
        "        csr_matrix\n",
        "            A matrix with rows corresponding to tweets and columns corresponding to words\n",
        "        \"\"\"\n",
        "        word_dicts = []\n",
        "        for tweet in preproc_X:\n",
        "          words = {}\n",
        "          for word in tweet:\n",
        "            words[word] = 1\n",
        "          word_dicts.append(words)\n",
        "\n",
        "        if (is_test):\n",
        "          return self.dv.transform(word_dicts)\n",
        "\n",
        "        else:\n",
        "          return self.dv.fit_transform(word_dicts)\n",
        "\n",
        "\n",
        "        # TODO: Implement a binary bag of words for unigrams\n",
        "        pass\n",
        "\n",
        "    def train(self, X_train: np.ndarray[List[str]], y_train: np.ndarray[int]):\n",
        "        \"\"\"\n",
        "        Trains the BOW classifier on the given training data.\n",
        "\n",
        "        Parameters\n",
        "        ----------\n",
        "        X_train : np.ndarray[List[str]]\n",
        "            Preprocessed tweets for training\n",
        "        y_train : np.ndarray[int]\n",
        "            Sentiments corresponding to the tweets in X_train\n",
        "        \"\"\"\n",
        "        feature_matrix = self.featurize(X_train, False)\n",
        "        self.clf.fit(feature_matrix, y_train)\n",
        "\n",
        "\n",
        "    def test(self, X_test: np.ndarray[List[str]]) -> np.ndarray[int]:\n",
        "        \"\"\"\n",
        "        Classifies the given test data and returns predicted sentiments.\n",
        "\n",
        "        Parameters\n",
        "        ----------\n",
        "        X_test : np.ndarray[List[str]]\n",
        "            Preprocessed tweets for testing\n",
        "\n",
        "        Returns\n",
        "        -------\n",
        "        y_pred : np.ndarray[int]\n",
        "            Predicted sentiments for the tweets in X_test\n",
        "        \"\"\"\n",
        "        feature_matrix = self.featurize(X_test, True)\n",
        "        return self.clf.predict(feature_matrix)\n"
      ]
    },
    {
      "cell_type": "markdown",
      "metadata": {
        "id": "D0WMMAoGjlFT"
      },
      "source": [
        "### Step 4: Evaluate the model\n"
      ]
    },
    {
      "cell_type": "markdown",
      "metadata": {
        "id": "vgqYc0tqjpkr"
      },
      "source": [
        "To evaluate the model, we need to simulate the \"real world\" setting in which we have trained on our model on the data we have, but now we are using it to assign labels to data we have never seen before. We will do this using stratified k-fold cross validation.\n",
        "\n",
        "Cross-validation is a resampling procedure used to evaluate machine learning models on a limited data sample. The procedure has a single parameter called `k` that refers to the number of groups that a given data sample is to be split into. As such, the procedure is often called k-fold cross-validation. This procedure is called \"stratified\" when the data is divided so that examples from each class (in this case, classes are the three sentiments) are distributed evenly among all folds.\n"
      ]
    },
    {
      "cell_type": "code",
      "execution_count": null,
      "metadata": {
        "id": "XVS-vcP2joXG"
      },
      "outputs": [],
      "source": [
        "from sklearn.model_selection import StratifiedKFold\n",
        "from sklearn.metrics import accuracy_score\n",
        "\n",
        "\n",
        "def run_kfold_crossval(\n",
        "    model: BOW_Classifier, X: List[List[str]], y: List[int], k: int = 5\n",
        ") -> List[float]:\n",
        "    \"\"\"\n",
        "    Executes stratified k-fold cross-validation.\n",
        "\n",
        "    Parameters\n",
        "    ----------\n",
        "    model : BOW_Classifier\n",
        "        A BOW model that has train and test methods\n",
        "    X : List[List[str]]\n",
        "        Preprocessed tweets for training and testing\n",
        "    y : List[int]\n",
        "        Sentiments corresponding to the tweets in X\n",
        "    k : int, default=5\n",
        "        The number of folds to use for cross-validation\n",
        "\n",
        "    Returns\n",
        "    -------\n",
        "    List[float]\n",
        "        A list of accuracy values from testing with each fold\n",
        "    \"\"\"\n",
        "\n",
        "    skf = StratifiedKFold(n_splits=k)\n",
        "\n",
        "    acc_scores = []\n",
        "\n",
        "    X_array = np.array(X, dtype=list)\n",
        "    y_array = np.array(y, dtype=int)\n",
        "\n",
        "    for train_index, test_index in skf.split(X_array, y_array):\n",
        "      x_train = [X_array[i] for i in train_index]\n",
        "      y_train = [y_array[i] for i in train_index]\n",
        "      x_test = [X_array[i] for i in test_index]\n",
        "      y_test = [y_array[i] for i in test_index]\n",
        "\n",
        "      model.train(x_train, y_train)\n",
        "\n",
        "      y_pred = model.test(x_test)\n",
        "\n",
        "      acc_scores.append(accuracy_score(y_test, y_pred))\n",
        "    # TODO: Implement stratified k-fold cross-validation with a BOW_Classifier model\n",
        "    # HINT: Consult the documentation for the imports at the top of this cell\n",
        "    # HINT 2: If you have trouble casting a ragged nested list to a numpy array, try passing dtype=list\n",
        "    return acc_scores"
      ]
    },
    {
      "cell_type": "markdown",
      "metadata": {
        "id": "lOz9M-b8laaq"
      },
      "source": [
        "### Step 5: Analyze Model Performance\n"
      ]
    },
    {
      "cell_type": "markdown",
      "metadata": {
        "id": "wddNvm-Rlb7M"
      },
      "source": [
        "This function will plot how well our model is doing :)\n"
      ]
    },
    {
      "cell_type": "code",
      "execution_count": null,
      "metadata": {
        "id": "F3Q5XsZglda0"
      },
      "outputs": [],
      "source": [
        "def plot_perfs(perfs: List[List[float]], names: List[str], k: int = 5):\n",
        "    \"\"\"\n",
        "    Plots performances of models in a bar chart.\n",
        "\n",
        "    Parameters\n",
        "    ----------\n",
        "    perfs : List[List[float]]\n",
        "        A list of accuracy results for each model\n",
        "    names : List[str]\n",
        "        The names of each of the models (in the same order as perfs)\n",
        "    k : int, default=5\n",
        "        The value of k used for cross-validation when producing the performances\n",
        "    \"\"\"\n",
        "    means = []\n",
        "    stds = []\n",
        "    for i, perf in enumerate(perfs):\n",
        "        mean = np.mean(perf)\n",
        "        means.append(mean)\n",
        "        stds.append(np.std(perf))\n",
        "        print(\"%s:\\t%.03f\" % (names[i], mean))\n",
        "    plt.bar(np.arange(len(means)), means, yerr=stds)\n",
        "    plt.xticks(np.arange(len(names)), names)\n",
        "    plt.ylabel(f\"Accuracy with {k} Folds\")\n",
        "    plt.ylim(0, 1)\n",
        "    plt.show()"
      ]
    },
    {
      "cell_type": "markdown",
      "metadata": {
        "id": "hngtdUFUn0P6"
      },
      "source": [
        "### Run full workflow!\n"
      ]
    },
    {
      "cell_type": "code",
      "execution_count": null,
      "metadata": {
        "id": "oBiT5f1Bn34C",
        "colab": {
          "base_uri": "https://localhost:8080/",
          "height": 471
        },
        "outputId": "ae6436e3-d86e-4c5f-8e77-c9f1e9f89d25"
      },
      "outputs": [
        {
          "output_type": "stream",
          "name": "stdout",
          "text": [
            "MFC Baseline:\t0.405\n",
            "Basic BOW:\t0.598\n"
          ]
        },
        {
          "output_type": "display_data",
          "data": {
            "text/plain": [
              "<Figure size 640x480 with 1 Axes>"
            ],
            "image/png": "[encoded data removed]"
          },
          "metadata": {}
        }
      ],
      "source": [
        "from collections import Counter\n",
        "\n",
        "K_FOLD = 10\n",
        "raw_tweets, y = load_data()\n",
        "\n",
        "X_preproc = preprocess(raw_tweets)\n",
        "bow_model = BOW_Classifier()\n",
        "basic_bow_accs = run_kfold_crossval(bow_model, X_preproc, y, k=K_FOLD)\n",
        "\n",
        "# here, we are going generate the \"most frequent class\" baseline based on the\n",
        "# training data\n",
        "counts = Counter(y).values()\n",
        "mfc_baseline = [max(counts) / sum(counts)] * K_FOLD\n",
        "\n",
        "# plot the results!\n",
        "plot_perfs([mfc_baseline, basic_bow_accs], [\"MFC Baseline\", \"Basic BOW\"], k=K_FOLD)"
      ]
    },
    {
      "cell_type": "markdown",
      "metadata": {
        "id": "Y4w65qPFiiYS"
      },
      "source": [
        "### ❗ Conceptual Questions (Answer in the Colab cell below). 👈👈👈 [Don't miss this section!]\n",
        "\n",
        "You will need to write/copy some code, or add some print statements to the functions you’ve already written, to help you answer these questions.\n",
        "\n",
        "Use one iteration of stratified k-fold cross-validation with k=5 (the default value) to retrieve feature matrices for a single train/test set.\n",
        "\n",
        "1. What are the dimensions of your training feature matrix (let's call it M_train)?\n",
        "2. What is the value of M_train[1460][1460]?\n",
        "3. What feature does the 1460th column of M_train represent?\n",
        "4. Find an example of a word that appears in the test set but never appears in the training set. What word did you find, and what is the tweet in which it occurred?\n",
        "5. What happens to that new word when the tweet is featurized at test time? I.e., what is the feature representation of the tweet that contains the unknown word?\n"
      ]
    },
    {
      "cell_type": "code",
      "source": [
        "from sklearn.model_selection import StratifiedKFold\n",
        "from sklearn.metrics import accuracy_score\n",
        "\n",
        "\n",
        "def run_kfold_crossval_conceptual(\n",
        "    model: BOW_Classifier, X: List[List[str]], y: List[int], k: int = 5\n",
        "):\n",
        "    \"\"\"\n",
        "    Executes stratified k-fold cross-validation.\n",
        "\n",
        "    Parameters\n",
        "    ----------\n",
        "    model : BOW_Classifier\n",
        "        A BOW model that has train and test methods\n",
        "    X : List[List[str]]\n",
        "        Preprocessed tweets for training and testing\n",
        "    y : List[int]\n",
        "        Sentiments corresponding to the tweets in X\n",
        "    k : int, default=5\n",
        "        The number of folds to use for cross-validation\n",
        "\n",
        "    Returns\n",
        "    -------\n",
        "    List[float]\n",
        "        A list of accuracy values from testing with each fold\n",
        "    \"\"\"\n",
        "\n",
        "    skf = StratifiedKFold(n_splits=k)\n",
        "\n",
        "    feature_matrices = {'train': [], 'test': []}\n",
        "    test_not_train = []\n",
        "\n",
        "    X_array = np.array(X, dtype=list)\n",
        "    y_array = np.array(y, dtype=int)\n",
        "\n",
        "    for train_index, test_index in skf.split(X_array, y_array):\n",
        "      x_train = [X_array[i] for i in train_index]\n",
        "      y_train = [y_array[i] for i in train_index]\n",
        "      x_test = [X_array[i] for i in test_index]\n",
        "      y_test = [y_array[i] for i in test_index]\n",
        "\n",
        "      feature_matrices['train'].append(model.featurize(x_train, False))\n",
        "      feature_matrices['test'].append(model.featurize(x_test, True))\n",
        "\n",
        "      for tweet in x_test:\n",
        "          if test_not_train:\n",
        "            test_not_train.append(model.dv.feature_names_)\n",
        "            break\n",
        "          for word in tweet:\n",
        "              if word not in model.dv.feature_names_:\n",
        "                test_not_train.append(word)\n",
        "                break\n",
        "\n",
        "    # TODO: Implement stratified k-fold cross-validation with a BOW_Classifier model\n",
        "    # HINT: Consult the documentation for the imports at the top of this cell\n",
        "    # HINT 2: If you have trouble casting a ragged nested list to a numpy array, try passing dtype=list\n",
        "    return feature_matrices, test_not_train"
      ],
      "metadata": {
        "id": "xRDs_4aeMQbC"
      },
      "execution_count": null,
      "outputs": []
    },
    {
      "cell_type": "code",
      "execution_count": null,
      "metadata": {
        "id": "aLW-5VvfG41-",
        "colab": {
          "base_uri": "https://localhost:8080/"
        },
        "outputId": "a3fe346b-baae-428f-af8b-3cbb6634060d"
      },
      "outputs": [
        {
          "output_type": "stream",
          "name": "stdout",
          "text": [
            "Feature matrix shape is (4000, 12877)\n",
            "Feature matrix (1460,1460) is 0.0\n",
            "Feature matrix 1460th column represents Don`t\n",
            "Word that is in test, but not train: responded,\n",
            "Chosen word is in feature matrix: False\n"
          ]
        }
      ],
      "source": [
        "K_FOLD = 5\n",
        "raw_tweets, y = load_data()\n",
        "\n",
        "X_preproc = preprocess(raw_tweets)\n",
        "bow_model = BOW_Classifier()\n",
        "ftr_matrices, test_not_train = run_kfold_crossval_conceptual(bow_model, X_preproc, y, k=K_FOLD)\n",
        "\n",
        "\n",
        "print(f\"Feature matrix shape is {ftr_matrices['train'][0].shape}\")\n",
        "print(f\"Feature matrix (1460,1460) is {ftr_matrices['train'][0][1460][0, 1460]}\")\n",
        "print(f\"Feature matrix 1460th column represents {test_not_train[1][1459]}\")\n",
        "print(f\"Word that is in test, but not train: {test_not_train[0]}\")\n",
        "print(f\"Chosen word is in feature matrix: {test_not_train[0] in test_not_train[1]}\") #Assumes first train-test had such a word"
      ]
    },
    {
      "cell_type": "markdown",
      "metadata": {
        "id": "juPq2qNZ5j_L"
      },
      "source": [
        "### Conceptual Answers:\n",
        "\n",
        "1. All feature matrices have 4500 as the first dimension and around 14000 as the second dimension.\n",
        "2.Feature matrix (1460,1460) is 0.0, the word represented in this column is not in the tweet represented in the row\n",
        "3.Feature matrix 1460th column represents 'Don`t'\n",
        "4.Word that is in test, but not train: 'responded'\n",
        "5.The word is 'silently ignored', meaning that it is excluded from the feature matrix\n"
      ]
    },
    {
      "cell_type": "markdown",
      "metadata": {
        "id": "GBN_jXx8fq4C"
      },
      "source": [
        "# Part 2: Improved Preprocessing\n"
      ]
    },
    {
      "cell_type": "markdown",
      "metadata": {
        "id": "wqObqbbplLJ5"
      },
      "source": [
        "In this section, we are going to improve the preprocessing step, but otherwise keep the above workflow the same.\n"
      ]
    },
    {
      "cell_type": "markdown",
      "metadata": {
        "id": "BUbq5ul55j_L"
      },
      "source": [
        "### Loading Data with Spacy\n",
        "\n",
        "The cell block below will load the dataset into spacy_processed_docs, a list of Spacy Documents that will be passed to the preprocess_part2 function below.\n"
      ]
    },
    {
      "cell_type": "code",
      "execution_count": null,
      "metadata": {
        "id": "Z8hodSae5j_L",
        "colab": {
          "base_uri": "https://localhost:8080/"
        },
        "outputId": "19c302c9-01e0-430d-b638-e809ba5f3d41"
      },
      "outputs": [
        {
          "output_type": "stream",
          "name": "stdout",
          "text": [
            "Loading parsed tweets from cache at /content/drive/My Drive/datasets/parsed_tweets.pickle\n",
            "5000 parsed tweets loaded.\n"
          ]
        }
      ],
      "source": [
        "NUM_TWEETS = 5000  # INFO: Feel free to change this to load in fewer tweets for debugging but otherwise keep it at 5000\n",
        "\n",
        "nlp = spacy.load(\"en_core_web_sm\")\n",
        "\n",
        "CACHE_PATH = f\"{FOLDER}/parsed_tweets.pickle\"\n",
        "\n",
        "if os.path.exists(CACHE_PATH):\n",
        "    print(f\"Loading parsed tweets from cache at {CACHE_PATH}\")\n",
        "    parsed_tweets = pickle.load(open(CACHE_PATH, \"rb\"))\n",
        "else:\n",
        "    # parse all the tweets with spacy\n",
        "    parsed_tweets = []\n",
        "    for i, r in enumerate(raw_tweets):\n",
        "        if i == NUM_TWEETS:\n",
        "            break\n",
        "        parsed_tweets.append(nlp(r))\n",
        "        if (i + 1) % 500 == 0:\n",
        "            print(f\"Processed {i + 1} out of {len(raw_tweets)}\", end=\"\\r\")\n",
        "    print(\"Processing complete\", \" \" * 10)\n",
        "    if CACHE_PATH is not None:\n",
        "        pickle.dump(parsed_tweets, open(CACHE_PATH, \"wb\"))\n",
        "\n",
        "print(\n",
        "    f\"{len(parsed_tweets)} parsed tweets loaded.\"\n",
        ")  # This should be 5000 when not debugging"
      ]
    },
    {
      "cell_type": "markdown",
      "metadata": {
        "id": "5mGS7mol5j_M"
      },
      "source": [
        "Please program `preprocessing_part2` to do the following things (not necessarily in this order):\n",
        "\n",
        "- lowercasing\n",
        "- lemmatization\n",
        "- remove stop words\n",
        "- remove punctuation and extra white space\n",
        "- use only top 1000 most frequent words, and replace the rest with \"\\<OOV\\>\"\n",
        "- replace numbers with \"\\<NUM\\>\"\n",
        "\n",
        "**Think about how each step affects the next one in the pipeline.** Specifically, one of these steps makes more sense to do last, so make sure your code reflects that.\n",
        "\n",
        "Your final feature matrix should have 1001 columns (1000 most frequent words and one \"\\<OOV\\>\" token).\n",
        "\n",
        "Use spacy to do these things. You shouldn't need to import any additional libraries (but hint: we've imported the Counter library in a previous cell). You can read the spacy documentation [here](http://spacy.pythonhumanities.com/01_02_linguistic_annotations.html#token-attributes) and [here](https://spacy.io/api/annotation#pos-tagging).\n"
      ]
    },
    {
      "cell_type": "code",
      "execution_count": null,
      "metadata": {
        "id": "GtH1w0ekqSuo"
      },
      "outputs": [],
      "source": [
        "spacy_doc: TypeAlias = spacy.tokens.doc.Doc\n",
        "\n",
        "\n",
        "def preprocess_part2(parsed_tweets: List[spacy_doc]) -> List[List[str]]:\n",
        "    \"\"\"\n",
        "    Preprocesses the spacy-parsed tweets.\n",
        "\n",
        "    Parameters\n",
        "    ----------\n",
        "    parsed_tweets : List[spacy_doc]\n",
        "        A list of tweets parsed by spacy\n",
        "\n",
        "    Returns\n",
        "    -------\n",
        "        A list of preprocessed tweets formatted as lists of tokens (lists of strings)\n",
        "    \"\"\"\n",
        "    preproc_X = [[] for _ in range(len(parsed_tweets))]\n",
        "\n",
        "    cnt = Counter()\n",
        "\n",
        "    for i, tweet in enumerate(parsed_tweets):\n",
        "      for token in tweet:\n",
        "        if token.is_stop or token.is_punct or token.is_space:\n",
        "          pass\n",
        "        else:\n",
        "          if token.pos_ == \"NUM\":\n",
        "            token = \"<NUM>\"\n",
        "          else:\n",
        "            token = token.lemma_.lower().strip()\n",
        "          cnt[token] += 1\n",
        "          preproc_X[i].append(token)\n",
        "\n",
        "    top_1K = cnt.most_common(1000)\n",
        "\n",
        "    for tweet in preproc_X:\n",
        "      for word in tweet:\n",
        "        if word not in top_1K:\n",
        "          word = \"<OOV>\"\n",
        "\n",
        "    return preproc_X"
      ]
    },
    {
      "cell_type": "markdown",
      "metadata": {
        "id": "GGffeP2k5j_N"
      },
      "source": [
        "Now let's re-run the workflow and observe the difference in performance!\n"
      ]
    },
    {
      "cell_type": "code",
      "execution_count": null,
      "metadata": {
        "id": "swJjfKjNZ0Jr",
        "colab": {
          "base_uri": "https://localhost:8080/",
          "height": 489
        },
        "outputId": "3a985131-37f6-4a12-c45b-bd420d832d90"
      },
      "outputs": [
        {
          "output_type": "stream",
          "name": "stdout",
          "text": [
            "MFC Baseline:\t0.405\n",
            "Basic BOW:\t0.598\n",
            "BOW+preproc:\t0.634\n"
          ]
        },
        {
          "output_type": "display_data",
          "data": {
            "text/plain": [
              "<Figure size 640x480 with 1 Axes>"
            ],
            "image/png": "[encoded data removed]"
          },
          "metadata": {}
        }
      ],
      "source": [
        "X_preproc = preprocess_part2(parsed_tweets)\n",
        "bow_model = BOW_Classifier()\n",
        "better_preproc_accs = run_kfold_crossval(bow_model, X_preproc, y, k=K_FOLD)\n",
        "\n",
        "plot_perfs(\n",
        "    [mfc_baseline, basic_bow_accs, better_preproc_accs],\n",
        "    [\"MFC Baseline\", \"Basic BOW\", \"BOW+preproc\"],\n",
        "    k=K_FOLD,\n",
        ")"
      ]
    },
    {
      "cell_type": "markdown",
      "metadata": {
        "id": "DMNapyQfmLHM"
      },
      "source": [
        "# Part 3: Improved Featurization\n"
      ]
    },
    {
      "cell_type": "markdown",
      "metadata": {
        "id": "3tBfdtKCuF2O"
      },
      "source": [
        "In this section, we will expand the featurize function to include more advanced and sophisticated features. You will now add n-grams with n values from 1 to 5 as features to (partially) preserve the order of the sentence.\n"
      ]
    },
    {
      "cell_type": "code",
      "execution_count": null,
      "metadata": {
        "id": "AQ38t5IymRqN"
      },
      "outputs": [],
      "source": [
        "from scipy.sparse import csr_matrix\n",
        "from sklearn.feature_extraction import DictVectorizer\n",
        "from sklearn.linear_model import LogisticRegression\n",
        "from sklearn.feature_extraction.text import CountVectorizer\n",
        "\n",
        "class Better_BOW(BOW_Classifier):\n",
        "    \"\"\"\n",
        "    A subclass of BOW_Classifier with a more complex featurization function.\n",
        "\n",
        "    All attribute and method names match those of BOW_Classifier.\n",
        "    \"\"\"\n",
        "\n",
        "    def __init__(self):\n",
        "        # TODO: Initialize class attributes\n",
        "        # HINT: Use max_iter=150 when initializing your LogisticRegression classifier to get expected performance!\n",
        "        # You are allowed to not use the dv attribute as well as add more to the init method if you wish\n",
        "        self.clf = LogisticRegression(max_iter=150) #Specify solver, penalty and other hyperparameters\n",
        "        self.dv = DictVectorizer()\n",
        "        self.cv = CountVectorizer(binary=True, ngram_range=(1, 5))\n",
        "\n",
        "\n",
        "\n",
        "    def featurize(\n",
        "        self, preproc_X: np.ndarray[List[str]], is_test: bool = False\n",
        "    ) -> csr_matrix:\n",
        "\n",
        "        if not is_test:\n",
        "          bow_matrix = self.cv.fit_transform(\" \".join(tweet) for tweet in preproc_X)\n",
        "#     Transform the input data into a binary bag of words matrix\n",
        "        bow_matrix = self.cv.transform(\" \".join(tweet) for tweet in preproc_X)\n",
        "        return bow_matrix\n",
        "        \"\"\"\n",
        "        Turns a list of preprocessed tweets into a bag of words\n",
        "        matrix using n-grams up to 5-grams.\n",
        "\n",
        "        Parameters\n",
        "        ----------\n",
        "        preproc_X : List[List[str]]\n",
        "            A list of preprocessed tweets\n",
        "        is_test: bool, default=False\n",
        "            Whether featurization should be done using features learned during training (is_test=True)\n",
        "            or whether it should be done with features extracted from scratch using preproc_X (is_test=False)\n",
        "\n",
        "        Returns\n",
        "        -------\n",
        "        csr_matrix\n",
        "            A matrix with rows corresponding to tweets and columns corresponding to n-grams\n",
        "        \"\"\"\n",
        "        def generate_ngram(tweet_words: List[str], n: int) -> List[str]:\n",
        "          last_word = len(tweet_words) - n\n",
        "\n",
        "          to_return = []\n",
        "          for i in range(last_word):\n",
        "            cur_token = ''\n",
        "            for j in range(n):\n",
        "              cur_token += tweet_words[i] + ' '\n",
        "            to_return.append(cur_token.strip())\n",
        "          return to_return\n",
        "\n",
        "        # TODO: Implement a binary BOW for 1-, 2-, 3-, 4-, and 5-grams\n",
        "        word_dicts = []\n",
        "        for tweet in preproc_X:\n",
        "          words = {}\n",
        "          tweet_len = len(tweet)\n",
        "\n",
        "          ngram2 = generate_ngram(tweet, 2)\n",
        "          ngram3 = generate_ngram(tweet, 3)\n",
        "          ngram4 = generate_ngram(tweet, 4)\n",
        "          ngram5 = generate_ngram(tweet, 5)\n",
        "\n",
        "          grams = tweet + ngram2 + ngram3 + ngram4 + ngram5\n",
        "          for token in grams:\n",
        "            words[token] = 1\n",
        "\n",
        "          word_dicts.append(words)\n",
        "\n",
        "        if (is_test):\n",
        "          return self.dv.transform(word_dicts)\n",
        "\n",
        "        else:\n",
        "          return self.dv.fit_transform(word_dicts)\n",
        "\n",
        "\n",
        "        # TODO: Implement a binary bag of words for unigrams\n",
        "\n",
        "\n",
        "    def train(self, X_train: np.ndarray[List[str]], y_train: np.ndarray[int]):\n",
        "        \"\"\"\n",
        "        Trains the BOW classifier on the given training data.\n",
        "\n",
        "        Parameters\n",
        "        ----------\n",
        "        X_train : np.ndarray[List[str]]\n",
        "            Preprocessed tweets for training\n",
        "        y_train : np.ndarray[int]\n",
        "            Sentiments corresponding to the tweets in X_train\n",
        "        \"\"\"\n",
        "        feature_matrix = self.featurize(X_train, False)\n",
        "        self.clf.fit(feature_matrix, y_train)\n",
        "\n",
        "\n",
        "    def test(self, X_test: np.ndarray[List[str]]) -> np.ndarray[int]:\n",
        "        \"\"\"\n",
        "        Classifies the given test data and returns predicted sentiments.\n",
        "\n",
        "        Parameters\n",
        "        ----------\n",
        "        X_test : np.ndarray[List[str]]\n",
        "            Preprocessed tweets for testing\n",
        "\n",
        "        Returns\n",
        "        -------\n",
        "        y_pred : np.ndarray[int]\n",
        "            Predicted sentiments for the tweets in X_test\n",
        "        \"\"\"\n",
        "        feature_matrix = self.featurize(X_test, True)\n",
        "        return self.clf.predict(feature_matrix)"
      ]
    },
    {
      "cell_type": "code",
      "execution_count": null,
      "metadata": {
        "id": "Szr1zI6p5j_N",
        "colab": {
          "base_uri": "https://localhost:8080/",
          "height": 506
        },
        "outputId": "35c94a9b-8cf8-4875-caa0-ff72d60f02f9"
      },
      "outputs": [
        {
          "output_type": "stream",
          "name": "stdout",
          "text": [
            "MFC Baseline:\t0.405\n",
            "Basic BOW:\t0.598\n",
            "BOW+preproc:\t0.634\n",
            "Better Features:\t0.638\n"
          ]
        },
        {
          "output_type": "display_data",
          "data": {
            "text/plain": [
              "<Figure size 640x480 with 1 Axes>"
            ],
            "image/png": "[encoded data removed]"
          },
          "metadata": {}
        }
      ],
      "source": [
        "X_preproc = preprocess_part2(parsed_tweets)\n",
        "better_bow = Better_BOW()\n",
        "better_feature_accs = run_kfold_crossval(better_bow, X_preproc, y, k=K_FOLD)\n",
        "\n",
        "plot_perfs(\n",
        "    [mfc_baseline, basic_bow_accs, better_preproc_accs, better_feature_accs],\n",
        "    [\"MFC Baseline\", \"Basic BOW\", \"BOW+preproc\", \"Better Features\"],\n",
        "    k=K_FOLD,\n",
        ")"
      ]
    },
    {
      "cell_type": "markdown",
      "metadata": {
        "id": "1NMsRDCMeV3u"
      },
      "source": [
        "# Submission Instructions\n",
        "\n",
        "Please submit this Colab as **two** files to Gradescope:\n",
        "\n",
        "1.  A `.py` file: Click File > Download > Download .py\n",
        "2.  A `.ipynb` file with outputs: Click Runtime > Run All, and then after all outputs are complete, click File > Download > Download .ipynb\n",
        "\n",
        "Please ensure that the `.ipynb` contains actual function outputs (and not leftover print statements, for instance). We will run your `.ipynb` file; if our outputs don't match the outputs in your submitted file (within reason), you will receive a 0 on this assignment.\n"
      ]
    },
    {
      "cell_type": "markdown",
      "metadata": {
        "id": "_VMdBqbCr8JM"
      },
      "source": [
        "Last updated: 14 Sep 2023\n"
      ]
    }
  ],
  "metadata": {
    "colab": {
      "collapsed_sections": [
        "PXr-P33boqMu"
      ],
      "provenance": [],
      "gpuType": "T4",
      "include_colab_link": true
    },
    "kernelspec": {
      "display_name": "Python 3",
      "name": "python3"
    },
    "language_info": {
      "codemirror_mode": {
        "name": "ipython",
        "version": 3
      },
      "file_extension": ".py",
      "mimetype": "text/x-python",
      "name": "python",
      "nbconvert_exporter": "python",
      "pygments_lexer": "ipython3",
      "version": "3.10.3"
    },
    "accelerator": "GPU"
  },
  "nbformat": 4,
  "nbformat_minor": 0
}